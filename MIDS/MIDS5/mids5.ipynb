{
 "cells": [
  {
   "cell_type": "code",
   "execution_count": 1,
   "metadata": {},
   "outputs": [],
   "source": [
    "import numpy as np\n",
    "from sklearn.cluster import KMeans"
   ]
  },
  {
   "cell_type": "code",
   "execution_count": 2,
   "metadata": {},
   "outputs": [
    {
     "name": "stderr",
     "output_type": "stream",
     "text": [
      "C:\\Users\\Alok\\miniconda3\\Lib\\site-packages\\sklearn\\cluster\\_kmeans.py:1382: UserWarning: KMeans is known to have a memory leak on Windows with MKL, when there are less chunks than available threads. You can avoid it by setting the environment variable OMP_NUM_THREADS=1.\n",
      "  warnings.warn(\n"
     ]
    }
   ],
   "source": [
    "# Define the points\n",
    "points = np.array([[0.1, 0.6],\n",
    "                   [0.15, 0.71],\n",
    "                   [0.08, 0.9],\n",
    "                   [0.16, 0.85],\n",
    "                   [0.2, 0.3],\n",
    "                   [0.25, 0.5],\n",
    "                   [0.24, 0.1],\n",
    "                   [0.3, 0.2]])\n",
    "\n",
    "# Define initial centroids\n",
    "initial_centroids = np.array([[0.1, 0.6],  # m1 = P1\n",
    "                              [0.3, 0.2]]) # m2 = P8\n",
    "\n",
    "# Perform k-means clustering\n",
    "kmeans = KMeans(n_clusters=2, init=initial_centroids, n_init=1).fit(points)"
   ]
  },
  {
   "cell_type": "code",
   "execution_count": 3,
   "metadata": {},
   "outputs": [
    {
     "name": "stdout",
     "output_type": "stream",
     "text": [
      "P6 belongs to Cluster: 1\n"
     ]
    }
   ],
   "source": [
    "# 1) Which cluster does P6 belong to?\n",
    "p6_cluster = kmeans.predict([[0.25, 0.5]])\n",
    "print(\"P6 belongs to Cluster:\", p6_cluster[0] + 1)"
   ]
  },
  {
   "cell_type": "code",
   "execution_count": 4,
   "metadata": {},
   "outputs": [
    {
     "name": "stdout",
     "output_type": "stream",
     "text": [
      "Population of cluster around m2: 3\n"
     ]
    }
   ],
   "source": [
    "# 2) What is the population of cluster around m2?\n",
    "m2_population = np.sum(kmeans.labels_ == 1)\n",
    "print(\"Population of cluster around m2:\", m2_population)"
   ]
  },
  {
   "cell_type": "code",
   "execution_count": 5,
   "metadata": {},
   "outputs": [
    {
     "name": "stdout",
     "output_type": "stream",
     "text": [
      "Updated value of m1: [0.148 0.712]\n",
      "Updated value of m2: [0.24666667 0.2       ]\n"
     ]
    }
   ],
   "source": [
    "# 3) What is updated value of m1 and m2?\n",
    "updated_centroids = kmeans.cluster_centers_\n",
    "print(\"Updated value of m1:\", updated_centroids[0])\n",
    "print(\"Updated value of m2:\", updated_centroids[1])"
   ]
  },
  {
   "cell_type": "code",
   "execution_count": null,
   "metadata": {},
   "outputs": [],
   "source": []
  }
 ],
 "metadata": {
  "kernelspec": {
   "display_name": "Python 3 (ipykernel)",
   "language": "python",
   "name": "python3"
  },
  "language_info": {
   "codemirror_mode": {
    "name": "ipython",
    "version": 3
   },
   "file_extension": ".py",
   "mimetype": "text/x-python",
   "name": "python",
   "nbconvert_exporter": "python",
   "pygments_lexer": "ipython3",
   "version": "3.11.4"
  }
 },
 "nbformat": 4,
 "nbformat_minor": 2
}
